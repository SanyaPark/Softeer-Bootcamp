{
 "cells": [
  {
   "cell_type": "markdown",
   "metadata": {},
   "source": [
    "# 코드 작성"
   ]
  },
  {
   "cell_type": "code",
   "execution_count": 1,
   "metadata": {},
   "outputs": [],
   "source": [
    "from pyspark.sql import SparkSession\n",
    "from pyspark.sql.functions import to_date, col, count, sum\n",
    "from functools import reduce # <-- 여러 DataFrame을 합칠 때 사용\n",
    "import datetime\n",
    "import pandas as pd"
   ]
  },
  {
   "cell_type": "code",
   "execution_count": 2,
   "metadata": {},
   "outputs": [
    {
     "name": "stderr",
     "output_type": "stream",
     "text": [
      "Setting default log level to \"WARN\".\n",
      "To adjust logging level use sc.setLogLevel(newLevel). For SparkR, use setLogLevel(newLevel).\n",
      "25/02/04 05:01:06 WARN NativeCodeLoader: Unable to load native-hadoop library for your platform... using builtin-java classes where applicable\n"
     ]
    }
   ],
   "source": [
    "# SparkSession 생성\n",
    "spark = SparkSession.builder \\\n",
    "        .appName(\"TLC 2024\") \\\n",
    "        .getOrCreate()"
   ]
  },
  {
   "cell_type": "code",
   "execution_count": 3,
   "metadata": {},
   "outputs": [],
   "source": [
    "tlc_path = \"TLC/2024/\""
   ]
  },
  {
   "cell_type": "markdown",
   "metadata": {},
   "source": [
    "## RDD로 작업하기"
   ]
  },
  {
   "cell_type": "code",
   "execution_count": 4,
   "metadata": {},
   "outputs": [],
   "source": [
    "# 월별 DataFrame을 저장할 리스트\n",
    "rdd_list = []"
   ]
  },
  {
   "cell_type": "code",
   "execution_count": 5,
   "metadata": {},
   "outputs": [
    {
     "name": "stdout",
     "output_type": "stream",
     "text": [
      "Loaded data for month 01 from TLC/2024/yellow_tripdata_2024-01.parquet\n",
      "Loaded data for month 02 from TLC/2024/yellow_tripdata_2024-02.parquet\n",
      "Loaded data for month 03 from TLC/2024/yellow_tripdata_2024-03.parquet\n",
      "Loaded data for month 04 from TLC/2024/yellow_tripdata_2024-04.parquet\n",
      "Loaded data for month 05 from TLC/2024/yellow_tripdata_2024-05.parquet\n",
      "Loaded data for month 06 from TLC/2024/yellow_tripdata_2024-06.parquet\n",
      "Loaded data for month 07 from TLC/2024/yellow_tripdata_2024-07.parquet\n",
      "Loaded data for month 08 from TLC/2024/yellow_tripdata_2024-08.parquet\n",
      "Loaded data for month 09 from TLC/2024/yellow_tripdata_2024-09.parquet\n",
      "Loaded data for month 10 from TLC/2024/yellow_tripdata_2024-10.parquet\n",
      "Loaded data for month 11 from TLC/2024/yellow_tripdata_2024-11.parquet\n"
     ]
    }
   ],
   "source": [
    "# 1~11월 데이터를 불러오기\n",
    "for month in range(1, 12):\n",
    "    month_str = f\"{month:02d}\"\n",
    "    file_path = f\"{tlc_path}yellow_tripdata_2024-{month_str}.parquet\"\n",
    "    # file_path = f\"{tlc_path}yellow_tripdata_2024-*.parquet\" # <-- Spark는 와일드카드(*)를 지원함\n",
    "    \n",
    "    # 파일을 읽어 데이터프레임 생성\n",
    "    df_month = spark.read.parquet(file_path)\n",
    "    # 데이터프레임을 RDD로 변환\n",
    "    rdd = df_month.rdd\n",
    "    # print(type(rdd))\n",
    "    rdd_list.append(rdd)\n",
    "    \n",
    "    print(f\"Loaded data for month {month_str} from {file_path}\")"
   ]
  },
  {
   "cell_type": "code",
   "execution_count": 6,
   "metadata": {},
   "outputs": [
    {
     "data": {
      "text/plain": [
       "pyspark.rdd.RDD"
      ]
     },
     "execution_count": 6,
     "metadata": {},
     "output_type": "execute_result"
    }
   ],
   "source": [
    "type(rdd_list[0])"
   ]
  },
  {
   "cell_type": "code",
   "execution_count": 7,
   "metadata": {},
   "outputs": [
    {
     "name": "stdout",
     "output_type": "stream",
     "text": [
      "All monthly data combined Successfully\n"
     ]
    }
   ],
   "source": [
    "# 모든 달의 RDD를 하나로 합치기 (스키마가 동일해야만 union 사용 가능)\n",
    "if rdd_list:\n",
    "    combined_rdd = reduce(lambda rdd1, rdd2: rdd1.union(rdd2), rdd_list)\n",
    "    print(\"All monthly data combined Successfully\")\n",
    "else:\n",
    "    print(\"Something's wrong with combining data\")"
   ]
  },
  {
   "cell_type": "code",
   "execution_count": 8,
   "metadata": {},
   "outputs": [
    {
     "data": {
      "text/plain": [
       "[Row(VendorID=2, tpep_pickup_datetime=datetime.datetime(2024, 1, 1, 0, 57, 55), tpep_dropoff_datetime=datetime.datetime(2024, 1, 1, 1, 17, 43), passenger_count=1, trip_distance=1.72, RatecodeID=1, store_and_fwd_flag='N', PULocationID=186, DOLocationID=79, payment_type=2, fare_amount=17.7, extra=1.0, mta_tax=0.5, tip_amount=0.0, tolls_amount=0.0, improvement_surcharge=1.0, total_amount=22.7, congestion_surcharge=2.5, Airport_fee=0.0),\n",
       " Row(VendorID=1, tpep_pickup_datetime=datetime.datetime(2024, 1, 1, 0, 3), tpep_dropoff_datetime=datetime.datetime(2024, 1, 1, 0, 9, 36), passenger_count=1, trip_distance=1.8, RatecodeID=1, store_and_fwd_flag='N', PULocationID=140, DOLocationID=236, payment_type=1, fare_amount=10.0, extra=3.5, mta_tax=0.5, tip_amount=3.75, tolls_amount=0.0, improvement_surcharge=1.0, total_amount=18.75, congestion_surcharge=2.5, Airport_fee=0.0),\n",
       " Row(VendorID=1, tpep_pickup_datetime=datetime.datetime(2024, 1, 1, 0, 17, 6), tpep_dropoff_datetime=datetime.datetime(2024, 1, 1, 0, 35, 1), passenger_count=1, trip_distance=4.7, RatecodeID=1, store_and_fwd_flag='N', PULocationID=236, DOLocationID=79, payment_type=1, fare_amount=23.3, extra=3.5, mta_tax=0.5, tip_amount=3.0, tolls_amount=0.0, improvement_surcharge=1.0, total_amount=31.3, congestion_surcharge=2.5, Airport_fee=0.0),\n",
       " Row(VendorID=1, tpep_pickup_datetime=datetime.datetime(2024, 1, 1, 0, 36, 38), tpep_dropoff_datetime=datetime.datetime(2024, 1, 1, 0, 44, 56), passenger_count=1, trip_distance=1.4, RatecodeID=1, store_and_fwd_flag='N', PULocationID=79, DOLocationID=211, payment_type=1, fare_amount=10.0, extra=3.5, mta_tax=0.5, tip_amount=2.0, tolls_amount=0.0, improvement_surcharge=1.0, total_amount=17.0, congestion_surcharge=2.5, Airport_fee=0.0),\n",
       " Row(VendorID=1, tpep_pickup_datetime=datetime.datetime(2024, 1, 1, 0, 46, 51), tpep_dropoff_datetime=datetime.datetime(2024, 1, 1, 0, 52, 57), passenger_count=1, trip_distance=0.8, RatecodeID=1, store_and_fwd_flag='N', PULocationID=211, DOLocationID=148, payment_type=1, fare_amount=7.9, extra=3.5, mta_tax=0.5, tip_amount=3.2, tolls_amount=0.0, improvement_surcharge=1.0, total_amount=16.1, congestion_surcharge=2.5, Airport_fee=0.0)]"
      ]
     },
     "execution_count": 8,
     "metadata": {},
     "output_type": "execute_result"
    }
   ],
   "source": [
    "# combined_rdd.printSchema()\n",
    "combined_rdd.take(5)"
   ]
  },
  {
   "cell_type": "markdown",
   "metadata": {},
   "source": [
    "## 요구사항:\n",
    "**변환 논리**:\n",
    "* 요금이 0이거나 음수인 여행을 제외하기 위해 필터링을 구현합니다.\n",
    "* 데이터를 매핑하여 관련 열을 추출하고 이를 적절한 데이터 유형으로 변환합니다.\n",
    "* 데이터를 줄여 총 수익과 총 여행 횟수를 계산합니다.\n",
    "* 날짜별로 그룹화하여 일일 지표를 계산합니다.\n",
    "\n",
    "**집계 논리**:\n",
    "* 총 여행 횟수를 계산하여 표시합니다.\n",
    "* 여행에서 발생한 총 수익을 계산하여 표시합니다.\n",
    "* 평균 여행 거리를 계산하고 표시합니다.\n",
    "* 하루당 여행 횟수를 계산하여 표시합니다.\n",
    "* 하루별 총 수익을 계산하고 표시합니다.\n",
    "\n",
    "**데이터 변환**:\n",
    "* 데이터에 최소 5가지 변환을 수행합니다(예: filtering, mapping, reducing, joining, aggregating).\n",
    "\n",
    "**데이터 집계**:\n",
    "* 다음 측정 항목을 계산합니다.\n",
    "* 총 여행 횟수.\n",
    "* 총 수익(요금 금액의 합계)\n",
    "* 평균 여행 거리.\n",
    "* 하루 여행 횟수.\n",
    "* 하루 총 수익.\n",
    "---"
   ]
  },
  {
   "cell_type": "markdown",
   "metadata": {},
   "source": [
    "2024년이 아닌 데이터를 배제하는 함수"
   ]
  },
  {
   "cell_type": "code",
   "execution_count": 9,
   "metadata": {},
   "outputs": [],
   "source": [
    "def is_valid_2024(row):\n",
    "    try:\n",
    "        dt_val = row['tpep_pickup_datetime']\n",
    "        if isinstance(dt_val, str):\n",
    "            dt = datetime.strptime(dt_val, \"%Y-%m-%d %H:%M:%S\")\n",
    "        else:\n",
    "            dt = dt_val\n",
    "        return dt.year==2024\n",
    "    except Exception as e:\n",
    "        return False"
   ]
  },
  {
   "cell_type": "markdown",
   "metadata": {},
   "source": [
    "**요금이 0 이하인 trip을 제외하는 필터링:**"
   ]
  },
  {
   "cell_type": "code",
   "execution_count": 10,
   "metadata": {},
   "outputs": [],
   "source": [
    "# 요금 0 필터링\n",
    "filtered_rdd = combined_rdd.filter(lambda row: row['fare_amount'] is not None and row['fare_amount'] > 0)\n",
    "filtered_rdd = filtered_rdd.filter(is_valid_2024)\n",
    "# filtered_rdd.cache()"
   ]
  },
  {
   "cell_type": "code",
   "execution_count": 11,
   "metadata": {},
   "outputs": [
    {
     "name": "stderr",
     "output_type": "stream",
     "text": [
      "[Stage 13:=====================================================>(109 + 1) / 110]\r"
     ]
    },
    {
     "name": "stdout",
     "output_type": "stream",
     "text": [
      "총 여행 횟수:  36833515\n",
      "총 수익:  733440925.7900434\n",
      "평균 여행 거리 4.917688045248834\n"
     ]
    },
    {
     "name": "stderr",
     "output_type": "stream",
     "text": [
      "                                                                                \r"
     ]
    }
   ],
   "source": [
    "# (요금, 여행 거리, 운행 횟수)\n",
    "fare_dist_total = filtered_rdd.map(lambda row: (row['fare_amount'], row['trip_distance'], 1)) \\\n",
    "            .reduce(lambda a, b: (a[0] + b[0], a[1] + b[1], a[2] + b[2]))\n",
    "            \n",
    "total_fare, total_dist, total_trips = fare_dist_total\n",
    "avg_dist = total_dist / total_trips if total_trips else 0\n",
    "\n",
    "print(\"총 여행 횟수: \", total_trips)\n",
    "print(\"총 수익: \", total_fare)\n",
    "print(\"평균 여행 거리\", avg_dist)\n",
    "            \n",
    "# 각 행은 (fare_amount, dist, 1) 형태의 튜플로 변환됩니다.\n",
    "# 나중에 reduce나 reduceByKey 같은 연산을 통해 **총 수익(sum of fare_amount)**과 \n",
    "# **총 여행 거리**, **총 트립 수(count)**를 쉽게 계산하기 위함입니다."
   ]
  },
  {
   "cell_type": "code",
   "execution_count": 23,
   "metadata": {},
   "outputs": [],
   "source": [
    "import json\n",
    "total_data = {\n",
    "    \"Total trips\" : total_trips,\n",
    "    \"Total fare\"  : total_fare,\n",
    "    \"Avg trip distance\" : avg_dist\n",
    "}\n",
    "with open('2024_total_trip_data.json', 'w') as f:\n",
    "    json.dump(total_data, f, indent=4)"
   ]
  },
  {
   "cell_type": "code",
   "execution_count": 12,
   "metadata": {},
   "outputs": [
    {
     "name": "stderr",
     "output_type": "stream",
     "text": [
      "                                                                                \r"
     ]
    }
   ],
   "source": [
    "daily_rdd = filtered_rdd.map(lambda row: (\n",
    "    row['tpep_pickup_datetime'].strftime(\"%Y-%m-%d\"), # --> key (datetime)\n",
    "    (row['fare_amount'], 1)) # --> value (fare, count)\n",
    ")\n",
    "\n",
    "daily_metrics_rdd = daily_rdd.reduceByKey(lambda a, b: (\n",
    "                    a[0] + b[0], # fare amount 합계\n",
    "                    a[1] + b[1], # trip count 합계\n",
    ")).sortByKey()\n"
   ]
  },
  {
   "cell_type": "code",
   "execution_count": 14,
   "metadata": {},
   "outputs": [
    {
     "name": "stderr",
     "output_type": "stream",
     "text": [
      "                                                                                \r"
     ]
    }
   ],
   "source": [
    "daily_records = {\n",
    "    \"Date\":[],\n",
    "    \"Trips\":[],\n",
    "    \"Daily Fare\":[]\n",
    "}\n",
    "for date, (total_fare, total_count) in daily_metrics_rdd.collect():\n",
    "    # print(f\"Date: {date} -> Trips: {total_count}, Total Fare: {round(total_fare, 2)}\")\n",
    "    daily_records['Date'].append(date)\n",
    "    daily_records['Trips'].append(total_count)\n",
    "    daily_records['Daily Fare'].append(total_fare)"
   ]
  },
  {
   "cell_type": "markdown",
   "metadata": {},
   "source": [
    "|집계 요소| 값|\n",
    "|---|---|\n",
    "|총 여행 횟수|   36833515|\n",
    "|총 수익|        733440925.79|\n",
    "|평균 여행 거리| 4.918|\n"
   ]
  },
  {
   "cell_type": "code",
   "execution_count": 15,
   "metadata": {},
   "outputs": [
    {
     "name": "stdout",
     "output_type": "stream",
     "text": [
      "root\n",
      " |-- Date: string (nullable = true)\n",
      " |-- Trips: long (nullable = true)\n",
      " |-- Daily Fare: double (nullable = true)\n",
      "\n",
      "+----------+------+------------------+\n",
      "|Date      |Trips |Daily Fare        |\n",
      "+----------+------+------------------+\n",
      "|2024-01-01|79684 |1792070.620000007 |\n",
      "|2024-01-02|74398 |1605948.7100000128|\n",
      "|2024-01-03|81266 |1644556.7400000033|\n",
      "|2024-01-04|101573|1922241.8000000191|\n",
      "|2024-01-05|101821|1864732.1499999792|\n",
      "|2024-01-06|95799 |1705149.3000000194|\n",
      "|2024-01-07|66551 |1336990.6299999945|\n",
      "|2024-01-08|78959 |1517613.6500000139|\n",
      "|2024-01-09|92795 |1606340.0000000135|\n",
      "|2024-01-10|93942 |1722422.719999995 |\n",
      "|2024-01-11|103766|1972963.2500000126|\n",
      "|2024-01-12|102397|1945405.7800000096|\n",
      "|2024-01-13|103394|1835294.6900000146|\n",
      "|2024-01-14|93129 |1712697.2699999884|\n",
      "|2024-01-15|76075 |1506477.6700000195|\n",
      "|2024-01-16|91978 |1804007.8599999945|\n",
      "|2024-01-17|109048|2032234.6000000231|\n",
      "|2024-01-18|109059|1998752.9600000135|\n",
      "|2024-01-19|94707 |1673888.970000008 |\n",
      "|2024-01-20|107330|1822598.6900000132|\n",
      "+----------+------+------------------+\n",
      "only showing top 20 rows\n",
      "\n"
     ]
    }
   ],
   "source": [
    "# 날짜별 기록을 parquet으로 저장\n",
    "pydf = pd.DataFrame(daily_records)\n",
    "spark_df = spark.createDataFrame(pydf)\n",
    "spark_df.printSchema()\n",
    "spark_df.show(truncate=False)"
   ]
  },
  {
   "cell_type": "code",
   "execution_count": 21,
   "metadata": {},
   "outputs": [],
   "source": [
    "spark_df.coalesce(1).write.mode(\"overwrite\").csv(\"./output/2024_daily_data\")"
   ]
  },
  {
   "cell_type": "code",
   "execution_count": 24,
   "metadata": {},
   "outputs": [],
   "source": [
    "spark.stop()"
   ]
  },
  {
   "cell_type": "code",
   "execution_count": null,
   "metadata": {},
   "outputs": [],
   "source": []
  }
 ],
 "metadata": {
  "kernelspec": {
   "display_name": "softeer-env",
   "language": "python",
   "name": "python3"
  },
  "language_info": {
   "codemirror_mode": {
    "name": "ipython",
    "version": 3
   },
   "file_extension": ".py",
   "mimetype": "text/x-python",
   "name": "python",
   "nbconvert_exporter": "python",
   "pygments_lexer": "ipython3",
   "version": "3.11.11"
  }
 },
 "nbformat": 4,
 "nbformat_minor": 2
}
