{
 "cells": [
  {
   "cell_type": "markdown",
   "metadata": {},
   "source": [
    "# Misson 3"
   ]
  },
  {
   "cell_type": "markdown",
   "metadata": {},
   "source": [
    "## 기능요구사항\n",
    "- IMF에서 제공하는 국가별 GDP를 구하세요.\n",
    "\n",
    "- 국가별 GDP를 확인할 수 있는 테이블을 만드세요.\n",
    "\n",
    "- 해당 테이블에는 GDP가 **높은 국가들이 먼저** 나와야 합니다.\n",
    "\n",
    "- GDP의 단위는 1B USD이어야 하고 **소수점 2자리**까지만 표시해 주세요.\n",
    "\n",
    "- IMF에서 매년 2회 이 자료를 제공하기 때문에 정보가 갱신되더라도 **해당 코드를 재사용**해서 정보를 얻을 수 있어야 합니다.\n",
    "\n",
    "## 프로그래밍 요구 사항\n",
    "- **주석**을 사용해서 설명을 추가하고 \n",
    "  \n",
    "- 함수를 만들어서 가독성과 재사용성을 높이세요.\n",
    "  \n",
    "- 추출 한 정보는 '**Countries_by_GDP.json**'라는 이름의 JSON 화일 포맷으로 저장해야 합니다.\n",
    "  \n",
    "- 필요한 모든 작업을 수행하는 '**etl_project_gdp.py**' 코드를 작성하세요.\n",
    "\n",
    "## 화면 출력\n",
    "- **GDP가 100B USD이상**이 되는 국가만을 구해서 화면에 출력해야 합니다.\n",
    "\n",
    "- 각 **Region별로 top5** 국가의 **GDP 평균**을 구해서 화면에 출력해야 합니다.\n",
    "\n",
    "## ETL 프로세스\n",
    "- **ETL 프로세스**에 따라 코드를 작성하고 각 단계의 **시작과 끝을 로그**에 기록하세요.\n",
    "- \n",
    "\n",
    "- 이 모든 처리 과정은 'etl_project_log.txt'라는 로그 화일에 기록되어야 합니다. (로그 화일은 매번 다시 생성하는 것이 아니라 **기존 화일에 append**되어야 합니다.)\n",
    "\n",
    "- log는 \"**time, log**\" 형식으로 기록하세요. 시간은 'Year-Monthname-Day-Hour-Minute-Second' 포맷에 맞게 표시하세요."
   ]
  },
  {
   "cell_type": "code",
   "execution_count": 61,
   "metadata": {},
   "outputs": [],
   "source": [
    "import requests\n",
    "from bs4 import BeautifulSoup# 크롤링\n",
    "import pandas as pd # 데이터 처리\n",
    "import json # to json file\n",
    "import datetime # logging\n",
    "import sqlite3 # DB\n",
    "import re\n",
    "import time, datetime"
   ]
  },
  {
   "cell_type": "code",
   "execution_count": 67,
   "metadata": {},
   "outputs": [],
   "source": [
    "url = 'https://en.wikipedia.org/wiki/List_of_countries_by_GDP_%28nominal%29'"
   ]
  },
  {
   "cell_type": "code",
   "execution_count": 68,
   "metadata": {},
   "outputs": [],
   "source": [
    "response = requests.get(url)\n",
    "\n",
    "if response.status_code == 200:\n",
    "    html = response.text\n",
    "    soup = BeautifulSoup(html, 'html.parser')\n",
    "else:\n",
    "    print(response.status_code)\n",
    "    "
   ]
  },
  {
   "cell_type": "code",
   "execution_count": 104,
   "metadata": {},
   "outputs": [
    {
     "data": {
      "text/plain": [
       "str"
      ]
     },
     "execution_count": 104,
     "metadata": {},
     "output_type": "execute_result"
    }
   ],
   "source": [
    "type(html)"
   ]
  },
  {
   "cell_type": "code",
   "execution_count": 12,
   "metadata": {},
   "outputs": [
    {
     "data": {
      "text/plain": [
       "' Table Head\\n        | IMF   \\nCountry |\\n'"
      ]
     },
     "execution_count": 12,
     "metadata": {},
     "output_type": "execute_result"
    }
   ],
   "source": [
    "''' \n",
    "Table Head Structure:\n",
    "        | IMF               | WB                | UN                | \n",
    "Country |Forecast   | Year  |Forecast   | Year  |Forecast   | Year  |\n",
    "        | :TODO     | :TODO |\n",
    "----------------------------------------------------------------------       \n",
    "Table Row Structure:\n",
    "td      | td        | td    | ...\n",
    "'''"
   ]
  },
  {
   "cell_type": "code",
   "execution_count": 73,
   "metadata": {},
   "outputs": [
    {
     "name": "stdout",
     "output_type": "stream",
     "text": [
      "[['United States', '30,337,162', '2025', '27,360,935', '2023', '25,744,100', '2022'], ['China', '19,534,894', '[n 1]2025', '17,794,782', '[n 3]2023', '17,963,170', '[n 1]2022'], ['Germany', '4,921,563', '2025', '4,456,081', '2023', '4,076,923', '2022'], ['Japan', '4,389,326', '2025', '4,212,945', '2023', '4,232,173', '2022'], ['India', '4,271,922', '2025', '3,549,919', '2023', '3,465,541', '2022'], ['United Kingdom', '3,730,261', '2025', '3,340,032', '2023', '3,089,072', '2022'], ['France', '3,283,429', '2025', '3,030,904', '2023', '2,775,316', '2022'], ['Italy', '2,459,597', '2025', '2,254,851', '2023', '2,046,952', '2022'], ['Canada', '2,330,308', '2025', '2,140,086', '2023', '2,137,939', '2022'], ['Brazil', '2,307,162', '2025', '2,173,666', '2023', '1,920,095', '2022'], ['Russia', '2,195,708', '2025', '2,021,421', '2023', '2,240,422', '2022'], ['South Korea', '1,947,133', '2025', '1,712,793', '2023', '1,673,916', '2022'], ['Australia', '1,881,140', '2025', '1,723,827', '2023', '1,776,577', '2022'], ['Spain', '1,827,576', '2025', '1,580,695', '2023', '1,415,874', '2022'], ['Mexico', '1,817,818', '2025', '1,788,887', '2023', '1,463,323', '2022'], ['Indonesia', '1,492,618', '2025', '1,371,171', '2023', '1,319,100', '2022'], ['Turkey', '1,455,413', '2025', '1,108,022', '2023', '907,118', '2022'], ['Netherlands', '1,272,960', '2025', '1,118,125', '2023', '1,008,027', '2022'], ['Saudi Arabia', '1,136,580', '2025', '1,067,583', '2023', '1,108,148', '2022'], ['Switzerland', '999,604', '2025', '884,940', '2023', '818,426', '2022'], ['Poland', '915,451', '2025', '811,229', '2023', '688,125', '2022'], ['Taiwan', '814,438', '[n 4]2025', '—', '—'], ['Belgium', '689,364', '2025', '632,217', '2023', '582,643', '2022'], ['Sweden', '638,780', '2025', '593,268', '2023', '591,188', '2022'], ['Ireland', '587,225', '2025', '545,629', '2023', '532,415', '2022'], ['Argentina', '574,201', '2025', '640,591', '2023', '631,133', '2022'], ['United Arab Emirates', '568,567', '2025', '504,173', '2023', '507,063', '2022'], ['Singapore', '561,725', '2025', '501,428', '2023', '466,788', '2022'], ['Austria', '559,218', '2025', '516,034', '2023', '470,302', '2022'], ['Israel', '550,905', '2025', '509,902', '2023', '525,002', '2022'], ['Thailand', '545,341', '2025', '514,945', '2023', '495,340', '2022'], ['Norway', '503,466', '2025', '485,513', '2023', '579,422', '2022'], ['Malaysia', '488,250', '2025', '399,649', '2023', '406,305', '2022'], ['Philippines', '471,516', '2025', '437,146', '2023', '404,284', '2022'], ['Vietnam', '468,400', '2025', '429,717', '2023', '408,802', '2022'], ['Iran', '463,747', '2025', '401,505', '2023', '398,047', '2022'], ['Bangladesh', '451,856', '2025', '437,415', '2023', '432,677', '2022'], ['Denmark', '431,228', '2025', '404,199', '2023', '400,167', '2022'], ['Hong Kong', '422,057', '[n 5]2025', '382,055', '2023', '359,838', '2022'], ['Colombia', '419,331', '2025', '363,540', '2023', '343,939', '2022'], ['South Africa', '418,046', '2025', '377,782', '2023', '405,270', '2022'], ['Romania', '406,202', '2025', '351,003', '2023', '300,690', '2022'], ['Egypt', '380,044', '2025', '395,926', '2023', '409,306', '2022'], ['Pakistan', '374,595', '2024', '338,368', '2023', '326,796', '2022'], ['Chile', '362,240', '2025', '335,533', '2023', '300,686', '2022'], ['Czech Republic', '360,233', '2025', '330,858', '2023', '290,527', '2022'], ['Finland', '319,989', '2025', '300,187', '2023', '282,511', '2022'], ['Portugal', '319,934', '2025', '287,080', '2023', '254,849', '2022'], ['Kazakhstan', '306,629', '2025', '261,421', '2023', '225,496', '2022'], ['Peru', '294,898', '2025', '267,603', '2023', '242,631', '2022'], ['Iraq', '270,874', '2025', '250,843', '2023', '264,182', '2022'], ['Greece', '265,171', '2025', '238,206', '2023', '217,285', '2022'], ['Algeria', '264,270', '2025', '239,899', '2023', '191,912', '2022'], ['New Zealand', '262,924', '2025', '253,466', '2023', '245,845', '2022'], ['Hungary', '245,619', '2025', '212,389', '2023', '177,337', '2022'], ['Qatar', '226,217', '2025', '235,770', '2022', '237,101', '2022'], ['Nigeria', '194,955', '2025', '362,815', '2023', '475,058', '2022'], ['Ukraine', '189,827', '[n 6]2025', '178,757', '[n 6]2023', '160,502', '[n 6]2022'], ['Morocco', '168,597', '2025', '141,109', '2023', '130,912', '2022'], ['Kuwait', '161,950', '2025', '161,772', '2023', '175,363', '2022'], ['Cuba', '—', '—', '147,193', '2022'], ['Ethiopia', '145,031', '2024', '163,698', '2023', '118,971', '2022'], ['Slovakia', '142,617', '2024', '132,794', '2023', '115,304', '2022'], ['Dominican Republic', '126,238', '2024', '121,444', '2023', '113,537', '2022'], ['Ecuador', '121,425', '2024', '118,845', '2023', '115,049', '2022'], ['Puerto Rico', '120,971', '2024', '117,902', '2023', '113,434', '2022'], ['Kenya', '116,321', '2024', '107,441', '2023', '113,419', '2022'], ['Angola', '113,286', '2024', '84,773', '2023', '113,304', '2022'], ['Uzbekistan', '112,653', '2024', '90,889', '2023', '80,391', '2022'], ['Guatemala', '112,369', '2024', '102,050', '2023', '95,003', '2022'], ['Oman', '109,993', '2024', '108,192', '2023', '114,666', '2022'], ['Bulgaria', '108,425', '2024', '101,584', '2023', '90,213', '2022'], ['Venezuela', '106,327', '2024', '—', '129,313', '2022'], ['Costa Rica', '95,149', '2024', '86,498', '2023', '68,380', '2022'], ['Luxembourg', '91,210', '2024', '85,755', '2023', '81,530', '2022'], ['Croatia', '89,665', '2024', '82,689', '2023', '71,552', '2022'], ['Panama', '87,347', '2024', '83,382', '2023', '76,522', '2022'], ['Ivory Coast', '86,993', '2024', '78,789', '2023', '70,018', '2022'], ['Sri Lanka', '74,846', '2022', '84,357', '2023', '76,187', '2022'], ['Turkmenistan', '83,883', '2024', '59,887', '2023', '67,009', '2022'], ['Lithuania', '82,789', '2024', '77,836', '2023', '70,878', '2022'], ['Uruguay', '82,605', '2024', '77,241', '2023', '71,171', '2022'], ['Serbia', '82,550', '2024', '75,187', '2023', '63,563', '2022'], ['Tanzania', '79,867', '2024', '79,158', '2023', '73,535', '[n 7]2022'], ['Azerbaijan', '75,649', '2024', '72,356', '2023', '78,721', '2022'], ['Ghana', '75,307', '2024', '76,370', '2023', '73,766', '2022'], ['Slovenia', '73,198', '2024', '68,217', '2023', '59,981', '2022'], ['Belarus', '73,129', '2024', '71,857', '2023', '72,873', '2022'], ['DR Congo', '72,483', '2024', '66,383', '2023', '62,551', '2022'], ['Myanmar', '64,284', '2024', '64,815', '2023', '65,211', '2022'], ['Uganda', '55,587', '2024', '49,273', '2023', '48,243', '2022'], ['Macau', '53,447', '[n 8]2024', '47,062', '2023', '24,042', '2022'], ['Cameroon', '53,391', '2024', '47,946', '2023', '44,341', '2022'], ['Jordan', '53,305', '2024', '50,814', '2023', '47,452', '2022'], ['Tunisia', '52,636', '2024', '48,530', '2023', '46,181', '2022'], ['Bolivia', '48,172', '2024', '45,850', '2023', '44,008', '2022'], ['Bahrain', '47,812', '2024', '43,205', '2023', '44,382', '2022'], ['Cambodia', '47,147', '2024', '31,773', '2023', '29,504', '2022'], ['Latvia', '45,521', '2024', '43,627', '2023', '40,876', '2022'], ['Paraguay', '44,937', '2024', '42,956', '2023', '41,722', '2022'], ['Libya', '44,812', '2024', '50,492', '2023', '40,537', '2022'], ['Nepal', '43,673', '2024', '40,908', '2023', '39,406', '2022'], ['Estonia', '43,044', '2024', '40,745', '2023', '38,049', '2022'], ['Honduras', '36,735', '2024', '34,401', '2023', '31,717', '2022'], ['Zimbabwe', '35,919', '2024', '26,538', '2023', '26,418', '2022'], ['El Salvador', '35,848', '2024', '34,016', '2023', '32,488', '2022'], ['Cyprus', '34,790', '[n 9]2024', '32,230', '[n 9]2023', '29,210', '[n 9]2022'], ['Senegal', '33,685', '2024', '31,014', '2023', '27,775', '2022'], ['Georgia', '33,191', '[n 10]2024', '30,536', '[n 10]2023', '24,605', '[n 10]2022'], ['Iceland', '32,919', '2024', '31,020', '2023', '28,064', '2022'], ['Papua New Guinea', '31,716', '2024', '30,933', '2022', '31,609', '2022'], ['Zambia', '29,872', '2024', '28,163', '2023', '29,136', '2022'], ['Bosnia and Herzegovina', '29,078', '2024', '27,055', '2023', '24,473', '2022'], ['Trinidad and Tobago', '28,365', '2024', '28,140', '2023', '30,053', '2022'], ['Sudan', '26,865', '2024', '109,327', '2023', '36,729', '2022'], ['Guinea', '25,447', '2024', '23,612', '2023', '20,846', '2022'], ['Albania', '25,431', '2024', '22,978', '2023', '18,916', '2022'], ['Armenia', '25,408', '2024', '24,212', '2023', '19,513', '2022'], ['Haiti', '24,046', '2024', '19,851', '2023', '18,751', '2022'], ['Mozambique', '22,975', '2024', '20,625', '2023', '18,406', '2022'], ['Malta', '22,737', '2024', '20,957', '2023', '18,100', '2022'], ['Mongolia', '21,943', '2024', '19,872', '2023', '17,146', '2022'], ['Burkina Faso', '21,902', '2024', '20,325', '2023', '19,176', '2022'], ['Mali', '21,662', '2024', '20,905', '2023', '18,827', '2022'], ['Botswana', '21,418', '2024', '19,396', '2023', '20,352', '2022'], ['Benin', '21,371', '2024', '19,673', '2023', '17,396', '2022'], ['Guyana', '21,178', '2024', '16,786', '2023', '14,718', '2022'], ['Gabon', '21,013', '2024', '20,516', '2023', '20,132', '2022'], ['Jamaica', '20,098', '2024', '19,423', '2023', '17,097', '2022'], ['Nicaragua', '18,829', '2024', '17,829', '2023', '15,671', '2022'], ['Niger', '18,816', '2024', '16,819', '2023', '15,414', '2022'], ['Chad', '18,697', '2024', '13,149', '2023', '16,799', '2022'], ['Palestine', '18,602', '[n 11]2023', '17,396', '[n 11]2023', '19,111', '[n 12]2022'], ['Syria', '—', '8,980', '2021', '18,595', '2022'], ['Moldova', '18,356', '[n 13]2024', '16,539', '[n 13]2023', '14,510', '[n 13]2022'], ['Lebanon', '21,780', '2022', '17,937', '2023', '39,303', '2022'], ['Yemen', '16,940', '2024', '—', '11,007', '2022'], ['Madagascar', '16,465', '2024', '16,032', '2023', '14,954', '2022'], ['Mauritius', '16,359', '2024', '14,397', '2023', '12,898', '2022'], ['North Macedonia', '15,873', '2024', '14,761', '2023', '13,711', '2022'], ['Kyrgyzstan', '15,770', '2024', '13,782', '2023', '12,560', '2022'], ['Brunei', '15,510', '2024', '15,128', '2023', '16,681', '2022'], ['Congo', '15,501', '2024', '15,321', '2023', '15,344', '2022'], ['Laos', '15,190', '2024', '15,843', '2023', '15,362', '2022'], ['North Korea', '—', '—', '15,176', '2022'], ['Afghanistan', '14,467', '2022', '14,502', '2022', '14,174', '2022'], ['Bahamas', '14,390', '2024', '14,339', '2023', '12,897', '2022'], ['Rwanda', '13,701', '2024', '14,098', '2023', '13,312', '2022'], ['Tajikistan', '13,000', '2024', '12,061', '2023', '10,492', '2022'], ['Somalia', '12,804', '2024', '11,680', '2023', '10,420', '2022'], ['Namibia', '12,765', '2024', '12,351', '2023', '12,607', '2022'], ['Kosovo', '11,318', '2024', '10,438', '2023', '9,397', '2022'], ['Malawi', '11,241', '2024', '14,084', '2023', '12,558', '2022'], ['Equatorial Guinea', '10,708', '2024', '12,117', '2023', '11,767', '2022'], ['Mauritania', '10,628', '2024', '10,453', '2023', '10,997', '2022'], ['Togo', '9,832', '2024', '9,171', '2023', '8,087', '2022'], ['New Caledonia', '—', '9,623', '2022', '9,623', '2022'], ['Monaco', '—', '8,784', '2022', '8,772', '2022'], ['Montenegro', '8,010', '2024', '7,405', '2023', '6,229', '2022'], ['Bermuda', '—', '7,828', '2022', '7,546', '2022'], ['Liechtenstein', '—', '7,365', '2022', '7,757', '2022'], ['Maldives', '7,199', '2024', '6,600', '2023', '6,170', '2022'], ['Barbados', '6,863', '2024', '6,394', '2023', '5,699', '2022'], ['Cayman Islands', '—', '6,601', '2022', '6,281', '2022'], ['South Sudan', '6,517', '2024', '—', '4,616', '2022'], ['French Polynesia', '—', '5,815', '2022', '5,814', '2022'], ['Fiji', '5,801', '2024', '5,495', '2023', '4,979', '2022'], ['Eswatini', '5,085', '2024', '4,598', '2023', '4,326', '2022'], ['Liberia', '4,754', '2024', '4,332', '2023', '3,265', '2022'], ['Sierra Leone', '4,558', '2024', '3,810', '2023', '3,481', '2022'], ['Djibouti', '4,364', '2024', '4,099', '2023', '4,003', '2022'], ['Suriname', '4,337', '2024', '3,782', '2023', '3,620', '2022'], ['Aruba', '4,069', '2024', '3,545', '2022', '3,544', '2022'], ['Andorra', '3,897', '2024', '3,728', '2023', '3,376', '2022'], ['Belize', '3,296', '2024', '3,282', '2023', '2,830', '2022'], ['Bhutan', '3,110', '2024', '2,898', '2022', '2,898', '2022'], ['Burundi', '3,075', '2024', '2,642', '2023', '4,032', '2022'], ['Curaçao', '—', '3,074', '2022', '3,075', '2022'], ['Greenland', '—', '3,236', '2021', '2,926', '2022'], ['Central African Republic', '2,810', '2024', '2,555', '2023', '2,395', '2022'], ['Cape Verde', '2,718', '2024', '2,587', '2023', '2,314', '2022'], ['Gambia', '2,694', '2024', '2,340', '2023', '2,231', '2022'], ['Saint Lucia', '2,582', '2024', '2,520', '2023', '2,165', '2022'], ['Lesotho', '2,395', '2024', '2,046', '2023', '2,287', '2022'], ['Eritrea', '—', '—', '2,383', '2022'], ['Zanzibar', '—', '—', '2,361', '2022'], ['Seychelles', '2,203', '2024', '2,141', '2023', '1,994', '2022'], ['Guinea-Bissau', '2,151', '2024', '1,966', '2023', '1,574', '2022'], ['Antigua and Barbuda', '2,127', '2024', '2,033', '2023', '1,770', '2022'], ['San Marino', '2,033', '2024', '1,855', '2021', '1,780', '2022'], ['East Timor', '1,992', '2024', '2,243', '2023', '3,204', '2022'], ['Solomon Islands', '1,707', '2024', '1,631', '2023', '1,597', '2022'], ['Sint Maarten', '—', '1,623', '2023', '1,572', '2022'], ['Comoros', '1,422', '2024', '1,352', '2023', '1,246', '2022'], ['Grenada', '1,406', '2024', '1,320', '2023', '1,192', '2022'], ['Turks and Caicos Islands', '—', '1,402', '2023', '1,138', '2022'], ['Vanuatu', '1,289', '2024', '1,126', '2023', '985', '2022'], ['Saint Kitts and Nevis', '1,134', '2024', '1,077', '2023', '979', '2022'], ['Saint Vincent and the Grenadines', '1,128', '2024', '1,066', '2023', '946', '2022'], ['Samoa', '1,024', '2024', '934', '2023', '857', '2022'], ['São Tomé and Príncipe', '751', '2024', '603', '2023', '546', '2022'], ['Dominica', '708', '2024', '654', '2023', '612', '2022'], ['Tonga', '581', '2024', '500', '2022', '488', '2022'], ['Micronesia', '484', '2024', '460', '2023', '427', '2022'], ['Kiribati', '311', '2024', '279', '2023', '223', '2022'], ['Palau', '308', '2024', '263', '2023', '225', '2022'], ['Marshall Islands', '305', '2024', '284', '2023', '279', '2022'], ['Nauru', '161', '2024', '154', '2023', '147', '2022'], ['Tuvalu', '66', '2024', '62', '2023', '59', '2022']]\n"
     ]
    }
   ],
   "source": [
    "table = soup.select('table.wikitable > tbody > tr:nth-child(n+4)')#.wikitable sortable sticky-header-multi static-row-numbers jquery-tablesorter')\n",
    "# tr, td 등의 tag가 변수 취급이 가능하구나\n",
    "gdp_rows = [[td.get_text(strip=True) for td in tr.find_all('td')] for tr in table]\n",
    "\n",
    "print(gdp_rows)"
   ]
  },
  {
   "cell_type": "code",
   "execution_count": 74,
   "metadata": {},
   "outputs": [
    {
     "data": {
      "text/plain": [
       "'10000'"
      ]
     },
     "execution_count": 74,
     "metadata": {},
     "output_type": "execute_result"
    }
   ],
   "source": [
    "re.sub(r',', '', '10,000')"
   ]
  },
  {
   "cell_type": "code",
   "execution_count": null,
   "metadata": {},
   "outputs": [],
   "source": [
    "country = []\n",
    "gdp = []\n",
    "year = []\n",
    "no_juseok = lambda s: re.sub(r'\\[.*?\\]', '', s)\n",
    "str_to_num = lambda s: int(re.sub(r',', '', s))\n",
    "\n",
    "for row in gdp_rows:\n",
    "    print(row)\n",
    "    country.append(no_juseok(row[0]))\n",
    "    \n",
    "    if row[1] == '—': gdp.append(-1)\n",
    "    else: gdp.append(str_to_num(no_juseok(row[1])))\n",
    "    \n",
    "    if row[2] == '—': year.append(-1)\n",
    "    else: year.append(no_juseok(row[2]))"
   ]
  },
  {
   "cell_type": "code",
   "execution_count": 98,
   "metadata": {},
   "outputs": [
    {
     "name": "stdout",
     "output_type": "stream",
     "text": [
      "209 209 209\n"
     ]
    }
   ],
   "source": [
    "print(len(country), len(gdp), len(year)) # checked!"
   ]
  },
  {
   "cell_type": "code",
   "execution_count": null,
   "metadata": {},
   "outputs": [],
   "source": [
    "gdp = [round(i / 1000, 2) for i in gdp]\n",
    "GDP_Table = pd.DataFrame({'Country': country, 'GDP': gdp, 'Year': year}).sort_values('GDP', ascending=False, inplace=True)"
   ]
  },
  {
   "cell_type": "code",
   "execution_count": 103,
   "metadata": {},
   "outputs": [],
   "source": [
    "GDP_Table = GDP_Table[GDP_Table['GDP'] >= 100]"
   ]
  },
  {
   "cell_type": "markdown",
   "metadata": {},
   "source": [
    "## Prototype"
   ]
  },
  {
   "cell_type": "code",
   "execution_count": 30,
   "metadata": {},
   "outputs": [],
   "source": [
    "import requests\n",
    "from bs4 import BeautifulSoup# 크롤링\n",
    "import pandas as pd # 데이터 처리\n",
    "import json # to json file\n",
    "import datetime # logging\n",
    "import sqlite3 # DB\n",
    "import re\n",
    "import time, datetime\n",
    "\n",
    "\n",
    "class Extract:\n",
    "    WIKI_URL = ''\n",
    "    IMF_URL = ''\n",
    "    \n",
    "    def __init__(self):\n",
    "        self.WIKI_URL = 'https://en.wikipedia.org/wiki/List_of_countries_by_GDP_%28nominal%29'\n",
    "        self.IMF_URL = ''\n",
    "    \n",
    "    def url_validation_check(self, url:str):\n",
    "        '''\n",
    "        URL 유효성 검증\n",
    "        Param: url: str\n",
    "        return: html text\n",
    "        '''\n",
    "        response = requests.get(url)\n",
    "\n",
    "        if response.status_code == 200:\n",
    "            return response.text\n",
    "        else:\n",
    "            print(response.status_code)  \n",
    "            return False      \n",
    "    \n",
    "    def collect_data(self, html: str):\n",
    "        '''\n",
    "        원본 데이터 수집\n",
    "        Param: html: str\n",
    "        return: gdp_rows: List \n",
    "        # 국가별 자료입니다. 형식: [[국가명, GDP, 연도, GDP, 연도, GDP, 연도] ... ] \n",
    "        '''\n",
    "        soup = BeautifulSoup(html, 'html.parser')\n",
    "        table = soup.select('table.wikitable > tbody > tr:nth-child(n+4)')#.wikitable sortable sticky-header-multi static-row-numbers jquery-tablesorter')\n",
    "        # tr, td 등의 tag가 변수 취급이 가능하구나\n",
    "        gdp_rows = [[td.get_text(strip=True) for td in tr.find_all('td')] for tr in table]\n",
    "\n",
    "        return gdp_rows\n",
    "\n",
    "\n",
    "class Transform:\n",
    "    raw_data = []\n",
    "    def __init__(self, raw_data:list):\n",
    "        '''\n",
    "        데이터를 가공하기 위해 원본 데이터를 가져옵니다.\n",
    "        '''\n",
    "        self.raw_data = raw_data\n",
    "    \n",
    "    def refine_data(self):\n",
    "        '''\n",
    "        데이터를 정제합니다.\n",
    "        링크를 지우고 문자열로 된 숫자를 정수로 변환합니다.\n",
    "        '-'로 표기된 데이터는 -1 을 기입합니다.\n",
    "        \n",
    "        return: country: List, gdp: List, year: List\n",
    "        '''\n",
    "        country = []\n",
    "        gdp = []\n",
    "        # year = []\n",
    "        \n",
    "        no_juseok = lambda s: re.sub(r'\\[.*?\\]', '', s)\n",
    "        str_to_num = lambda s: int(re.sub(r',', '', s))\n",
    "        \n",
    "        for i, row in enumerate(self.raw_data):\n",
    "\n",
    "            if len(row) < 2: \n",
    "                print(f\"Data Error in line {i}\")\n",
    "                \n",
    "            country.append(no_juseok(row[0]))\n",
    "            \n",
    "            if row[1] == '—': \n",
    "                gdp.append(-1)\n",
    "            else: \n",
    "                gdp.append(str_to_num(no_juseok(row[1])))\n",
    "        \n",
    "        return country, gdp\n",
    "        \n",
    "    def make_DataFrame(self, country:list, gdp:list):\n",
    "        '''\n",
    "        가공된 데이터로 데이터프레임을 생성합니다.\n",
    "        GDP에 대해 내림차순 정렬되어 있고 GDP가 $100B 이상인 국가만 포함됩니다.\n",
    "\n",
    "        Param: country: List, gdp: List, year: List\n",
    "        return: GDP_data: pd.DataFrame\n",
    "        '''\n",
    "        GDP_data = pd.DataFrame({'Country': country, 'GDP_USD_Bilion': gdp})\n",
    "        GDP_data.sort_values('GDP_USD_Bilion', ascending=False, inplace=True)\n",
    "           \n",
    "        GDP_data['GDP_USD_Bilion'] = GDP_data['GDP_USD_Bilion'].apply(lambda x: round(x / 1000, 2))\n",
    "        \n",
    "        \n",
    "        return GDP_data[GDP_data['GDP_USD_Bilion'] >= 100]\n",
    "    \n",
    "class Load:\n",
    "    frame = None\n",
    "    def __init__(self, frame):\n",
    "        '''\n",
    "        데이터프레임을 저장하기 위해 불러옵니다.\n",
    "        '''\n",
    "        self.frame = frame\n",
    "    \n",
    "    def save_json(self,):\n",
    "        '''\n",
    "        데이터프레임을 JSON 형식으로 저장합니다.\n",
    "        '''\n",
    "        try:\n",
    "            filename = 'Countries_by_GDP.json'\n",
    "            self.frame.to_json(filename, indent=4)\n",
    "            print(f\"Updated: {filename}\")\n",
    "        \n",
    "        except Exception as e:\n",
    "            print(f\"Error processing {filename}: {e}\")"
   ]
  },
  {
   "cell_type": "markdown",
   "metadata": {},
   "source": [
    "## Test Code"
   ]
  },
  {
   "cell_type": "code",
   "execution_count": 31,
   "metadata": {},
   "outputs": [
    {
     "name": "stdout",
     "output_type": "stream",
     "text": [
      "https://en.wikipedia.org/wiki/List_of_countries_by_GDP_%28nominal%29\n"
     ]
    },
    {
     "data": {
      "text/html": [
       "<div>\n",
       "<style scoped>\n",
       "    .dataframe tbody tr th:only-of-type {\n",
       "        vertical-align: middle;\n",
       "    }\n",
       "\n",
       "    .dataframe tbody tr th {\n",
       "        vertical-align: top;\n",
       "    }\n",
       "\n",
       "    .dataframe thead th {\n",
       "        text-align: right;\n",
       "    }\n",
       "</style>\n",
       "<table border=\"1\" class=\"dataframe\">\n",
       "  <thead>\n",
       "    <tr style=\"text-align: right;\">\n",
       "      <th></th>\n",
       "      <th>Country</th>\n",
       "      <th>GDP_USD_Bilion</th>\n",
       "    </tr>\n",
       "  </thead>\n",
       "  <tbody>\n",
       "    <tr>\n",
       "      <th>0</th>\n",
       "      <td>United States</td>\n",
       "      <td>30337.16</td>\n",
       "    </tr>\n",
       "    <tr>\n",
       "      <th>1</th>\n",
       "      <td>China</td>\n",
       "      <td>19534.89</td>\n",
       "    </tr>\n",
       "    <tr>\n",
       "      <th>2</th>\n",
       "      <td>Germany</td>\n",
       "      <td>4921.56</td>\n",
       "    </tr>\n",
       "    <tr>\n",
       "      <th>3</th>\n",
       "      <td>Japan</td>\n",
       "      <td>4389.33</td>\n",
       "    </tr>\n",
       "    <tr>\n",
       "      <th>4</th>\n",
       "      <td>India</td>\n",
       "      <td>4271.92</td>\n",
       "    </tr>\n",
       "    <tr>\n",
       "      <th>...</th>\n",
       "      <td>...</td>\n",
       "      <td>...</td>\n",
       "    </tr>\n",
       "    <tr>\n",
       "      <th>68</th>\n",
       "      <td>Uzbekistan</td>\n",
       "      <td>112.65</td>\n",
       "    </tr>\n",
       "    <tr>\n",
       "      <th>69</th>\n",
       "      <td>Guatemala</td>\n",
       "      <td>112.37</td>\n",
       "    </tr>\n",
       "    <tr>\n",
       "      <th>70</th>\n",
       "      <td>Oman</td>\n",
       "      <td>109.99</td>\n",
       "    </tr>\n",
       "    <tr>\n",
       "      <th>71</th>\n",
       "      <td>Bulgaria</td>\n",
       "      <td>108.42</td>\n",
       "    </tr>\n",
       "    <tr>\n",
       "      <th>72</th>\n",
       "      <td>Venezuela</td>\n",
       "      <td>106.33</td>\n",
       "    </tr>\n",
       "  </tbody>\n",
       "</table>\n",
       "<p>72 rows × 2 columns</p>\n",
       "</div>"
      ],
      "text/plain": [
       "          Country  GDP_USD_Bilion\n",
       "0   United States        30337.16\n",
       "1           China        19534.89\n",
       "2         Germany         4921.56\n",
       "3           Japan         4389.33\n",
       "4           India         4271.92\n",
       "..            ...             ...\n",
       "68     Uzbekistan          112.65\n",
       "69      Guatemala          112.37\n",
       "70           Oman          109.99\n",
       "71       Bulgaria          108.42\n",
       "72      Venezuela          106.33\n",
       "\n",
       "[72 rows x 2 columns]"
      ]
     },
     "execution_count": 31,
     "metadata": {},
     "output_type": "execute_result"
    }
   ],
   "source": [
    "e = Extract()\n",
    "print(e.WIKI_URL)\n",
    "if html := e.url_validation_check(e.WIKI_URL):\n",
    "    raws = e.collect_data(html)\n",
    "t = Transform(raws)\n",
    "table = t.make_DataFrame(*t.refine_data())\n",
    "table"
   ]
  },
  {
   "cell_type": "code",
   "execution_count": 32,
   "metadata": {},
   "outputs": [
    {
     "name": "stdout",
     "output_type": "stream",
     "text": [
      "Opened SQLite database with version 3.39.5 successfully.\n"
     ]
    },
    {
     "data": {
      "text/plain": [
       "72"
      ]
     },
     "execution_count": 32,
     "metadata": {},
     "output_type": "execute_result"
    }
   ],
   "source": [
    "try:\n",
    "    with sqlite3.connect('World_Economies.db') as conn:\n",
    "        print(f\"Opened SQLite database with version {sqlite3.sqlite_version} successfully.\")\n",
    "\n",
    "except sqlite3.OperationalError as e:\n",
    "    print(\"Failed to open database:\", e)\n",
    "    \n",
    "table.to_sql('Countries_by_GDP', conn)"
   ]
  },
  {
   "cell_type": "code",
   "execution_count": 87,
   "metadata": {},
   "outputs": [],
   "source": [
    "import logging, logging.config\n",
    "from functools import wraps\n",
    "\n",
    "logger = logging.getLogger()\n",
    "if not logger.handlers:\n",
    "    # 사용자 정의 Formatter\n",
    "    formatter = logging.Formatter(\n",
    "        fmt='%(asctime)s, %(message)s',\n",
    "        datefmt='%Y-%B-%d-%H-%M-%S'  # 원하는 날짜 포맷\n",
    "    )\n",
    "\n",
    "    # 핸들러 생성 및 설정\n",
    "    handler = logging.FileHandler('etl_project_log.txt')\n",
    "    handler.setFormatter(formatter)\n",
    "\n",
    "    # 로거 설정\n",
    "    logger.setLevel(logging.INFO)\n",
    "    logger.addHandler(handler)\n",
    "# # 기존 핸들러 제거\n",
    "# for handler in logger.handlers[:]:\n",
    "#     logger.removeHandler(handler)\n",
    "\n",
    "# 테스트 로그 메시지\n",
    "logger.info(\"This is a test log message.\")\n",
    "\n",
    "def logging_time(func):         \n",
    "    @wraps(func)\n",
    "    def wrapper(*args, **kwargs):\n",
    "        start_time = datetime.datetime.now()\n",
    "        # formatted_start = start_time.strftime(\"%Y-%B-%d-%H-%M-%S\")\n",
    "\n",
    "        logging.info(f\"Started '{func.__name__}'\")\n",
    "        \n",
    "        result = func(*args, **kwargs)\n",
    "        \n",
    "        end_time = datetime.datetime.now()\n",
    "        # formatted_end = end_time.strftime(\"%Y-%B-%d-%H-%M-%S\")\n",
    "\n",
    "        logging.info(f\"Finished '{func.__name__}'\")\n",
    "        # logging.info(f\"Execution time for '{func.__name__}': {end_time - start_time}\")\n",
    "        return result\n",
    "    return wrapper"
   ]
  },
  {
   "cell_type": "code",
   "execution_count": 88,
   "metadata": {},
   "outputs": [
    {
     "name": "stdout",
     "output_type": "stream",
     "text": [
      "Done!\n"
     ]
    }
   ],
   "source": [
    "@logging_time\n",
    "def sample_function(duration):\n",
    "    \"\"\"샘플 함수: 주어진 시간(초) 동안 대기\"\"\"\n",
    "    import time\n",
    "    time.sleep(duration)\n",
    "    return \"Done!\"\n",
    "result_sample = sample_function(2)\n",
    "print(result_sample)"
   ]
  },
  {
   "cell_type": "code",
   "execution_count": null,
   "metadata": {},
   "outputs": [],
   "source": [
    "Algeria\n",
    "Angola\n",
    "Benin\n",
    "Botswana\n",
    "Burkina Faso\n",
    "Burundi\n",
    "Cameroon\n",
    "Cape Verde\n",
    "Central African Republic\n",
    "Chad\n",
    "Comoros\n",
    "Congo, Dem. Rep. of\n",
    "Congo, Republic of\n",
    "Côte d'Ivoire\n",
    "Djibouti\n",
    "Egypt\n",
    "Equatorial Guinea\n",
    "Eritrea\n",
    "Eswatini\n",
    "Ethiopia\n",
    "Gabon\n",
    "Gambia, The\n",
    "Ghana\n",
    "Guinea\n",
    "Guinea-Bissau\n",
    "Kenya\n",
    "Lesotho\n",
    "Liberia\n",
    "Libya\n",
    "Madagascar\n",
    "Malawi\n",
    "Mali\n",
    "Mauritania\n",
    "Mauritius\n",
    "Mayotte\n",
    "Morocco\n",
    "Mozambique\n",
    "Namibia\n",
    "Niger\n",
    "Nigeria\n",
    "Reunion\n",
    "Rwanda\n",
    "Saint Helena\n",
    "São Tomé and Príncipe\n",
    "Senegal\n",
    "Seychelles\n",
    "Sierra Leone\n",
    "Somalia\n",
    "South Africa\n",
    "South Sudan\n",
    "Sudan\n",
    "Tanzania\n",
    "Togo\n",
    "Tunisia\n",
    "Uganda\n",
    "Zambia\n",
    "Zimbabwe"
   ]
  },
  {
   "cell_type": "markdown",
   "metadata": {},
   "source": [
    "# 추가 요구 사항\n",
    "## 코드를 수정해서 아래 요구사항을 구현하세요.\n",
    "- 추출한 데이터를 데이터베이스에 저장하세요. 'Countries_by_GDP'라는 테이블명으로 'World_Economies.db'라는 데이터 베이스에 저장되어야 합니다. <br>해당 테이블은 'Country', 'GDP_USD_billion'라는 어트리뷰트를 반드시 가져야 합니다.\n",
    "\n",
    "- 데이터베이스는 sqlite3 라이브러리를 사용해서 만드세요.\n",
    "\n",
    "- 필요한 모든 작업을 수행하는 'etl_project_gdp_with_sql.py' 코드를 작성하세요.\n",
    "\n",
    "## 화면 출력\n",
    "- SQL Query를 사용해야 합니다.\n",
    "\n",
    "- GDP가 100B USD이상이 되는 국가만을 구해서 화면에 출력해야 합니다.\n",
    "\n",
    "- 각 Region별로 top5 국가의 GDP 평균을 구해서 화면에 출력해야 합니다."
   ]
  },
  {
   "cell_type": "code",
   "execution_count": null,
   "metadata": {},
   "outputs": [],
   "source": []
  }
 ],
 "metadata": {
  "kernelspec": {
   "display_name": "softeer-env",
   "language": "python",
   "name": "python3"
  },
  "language_info": {
   "codemirror_mode": {
    "name": "ipython",
    "version": 3
   },
   "file_extension": ".py",
   "mimetype": "text/x-python",
   "name": "python",
   "nbconvert_exporter": "python",
   "pygments_lexer": "ipython3",
   "version": "3.11.11"
  }
 },
 "nbformat": 4,
 "nbformat_minor": 2
}
